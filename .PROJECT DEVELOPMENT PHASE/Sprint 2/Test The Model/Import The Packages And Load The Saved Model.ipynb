{
 "cells": [
  {
   "cell_type": "markdown",
   "id": "d2cd61b8",
   "metadata": {},
   "source": [
    "**Test The Model**"
   ]
  },
  {
   "cell_type": "markdown",
   "id": "fdfdd170",
   "metadata": {},
   "source": [
    "**Import The Packages And Load The Saved Model**"
   ]
  },
  {
   "cell_type": "code",
   "execution_count": 1,
   "id": "8d2553d1",
   "metadata": {},
   "outputs": [],
   "source": [
    "from keras.models import load_model\n",
    "import numpy as np\n",
    "import cv2"
   ]
  },
  {
   "cell_type": "code",
   "execution_count": 2,
   "id": "3589d9aa",
   "metadata": {},
   "outputs": [],
   "source": [
    "from tensorflow.keras.models import load_model\n",
    "from tensorflow.keras.preprocessing import image \n",
    "import numpy as np"
   ]
  },
  {
   "cell_type": "code",
   "execution_count": 3,
   "id": "6d019301",
   "metadata": {},
   "outputs": [],
   "source": [
    "model=load_model(\"signlanguage.h5\")\n"
   ]
  }
 ],
 "metadata": {
  "kernelspec": {
   "display_name": "Python 3 (ipykernel)",
   "language": "python",
   "name": "python3"
  },
  "language_info": {
   "codemirror_mode": {
    "name": "ipython",
    "version": 3
   },
   "file_extension": ".py",
   "mimetype": "text/x-python",
   "name": "python",
   "nbconvert_exporter": "python",
   "pygments_lexer": "ipython3",
   "version": "3.9.12"
  }
 },
 "nbformat": 4,
 "nbformat_minor": 5
}
