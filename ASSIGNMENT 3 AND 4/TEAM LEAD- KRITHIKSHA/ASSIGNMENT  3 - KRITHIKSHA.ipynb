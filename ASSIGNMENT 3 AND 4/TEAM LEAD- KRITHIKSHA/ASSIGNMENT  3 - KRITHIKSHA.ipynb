{
 "cells": [
  {
   "cell_type": "markdown",
   "id": "a7644a57",
   "metadata": {},
   "source": [
    " ASSIGNMENT - 3  \n",
    "                              "
   ]
  },
  {
   "cell_type": "markdown",
   "id": "7f96a257",
   "metadata": {},
   "source": [
    " Student name : G krithiksha\n",
    " Batch : B10-4A6E"
   ]
  },
  {
   "cell_type": "markdown",
   "id": "b31b6b04",
   "metadata": {},
   "source": [
    "1.Download the dataset: Dataset\n",
    "\n",
    "my dataset is downloaded in the path : C:\\Users\\Acer\\Downloads\\Flowers-Dataset\\flowers"
   ]
  },
  {
   "cell_type": "code",
   "execution_count": 1,
   "id": "1bffeedc",
   "metadata": {},
   "outputs": [
    {
     "name": "stdout",
     "output_type": "stream",
     "text": [
      " Volume in drive C is windows 10\n",
      " Volume Serial Number is 083C-F2B1\n",
      "\n",
      " Directory of C:\\Users\\Acer\\IBM --TRAINING SESSION\\IBM - assignment-3\n",
      "\n",
      "10/11/2022  09:16 PM    <DIR>          .\n",
      "10/11/2022  09:16 PM    <DIR>          ..\n",
      "10/11/2022  09:16 PM    <DIR>          .ipynb_checkpoints\n",
      "10/11/2022  09:16 PM            29,443 ASSIGNMENT  3 - KRITHIKSHA(IBM).ipynb\n",
      "10/08/2022  02:31 PM       111,499,392 flowers.h5\n",
      "10/08/2022  03:45 PM            18,300 KRITHIKSHA- CNN PREDICTION OF FLOWERS.ipynb\n",
      "10/05/2022  10:59 AM            25,183 rose.jpg\n",
      "10/11/2022  09:16 PM                72 Untitled.ipynb\n",
      "               5 File(s)    111,572,390 bytes\n",
      "               3 Dir(s)  46,742,405,120 bytes free\n"
     ]
    }
   ],
   "source": [
    "ls\n"
   ]
  },
  {
   "cell_type": "markdown",
   "id": "7f2152f7",
   "metadata": {},
   "source": [
    "2.IMAGE AUGMENTATION"
   ]
  },
  {
   "cell_type": "code",
   "execution_count": 2,
   "id": "99d64db1",
   "metadata": {},
   "outputs": [],
   "source": [
    "from tensorflow.keras.preprocessing.image import ImageDataGenerator"
   ]
  },
  {
   "cell_type": "code",
   "execution_count": 3,
   "id": "bef11451",
   "metadata": {},
   "outputs": [],
   "source": [
    "train_datagen=ImageDataGenerator(rescale=1./255,horizontal_flip=True,vertical_flip=True,zoom_range=0.2)"
   ]
  },
  {
   "cell_type": "code",
   "execution_count": 4,
   "id": "fc81a88f",
   "metadata": {},
   "outputs": [],
   "source": [
    "test_datagen=ImageDataGenerator(rescale=1./255)"
   ]
  },
  {
   "cell_type": "code",
   "execution_count": 5,
   "id": "c8955e16",
   "metadata": {},
   "outputs": [
    {
     "name": "stdout",
     "output_type": "stream",
     "text": [
      "Found 4317 images belonging to 5 classes.\n"
     ]
    }
   ],
   "source": [
    "x_train=train_datagen.flow_from_directory(r\"C:\\Users\\Acer\\Downloads\\Flowers-Dataset\\flowers\",target_size=(64,64),\n",
    "                                                            class_mode=\"categorical\",batch_size=24)"
   ]
  },
  {
   "cell_type": "code",
   "execution_count": 6,
   "id": "23c5f3f4",
   "metadata": {},
   "outputs": [
    {
     "name": "stdout",
     "output_type": "stream",
     "text": [
      "Found 4317 images belonging to 5 classes.\n"
     ]
    }
   ],
   "source": [
    "x_test=test_datagen.flow_from_directory(r\"C:\\Users\\Acer\\Downloads\\Flowers-Dataset\\flowers\",target_size=(64,64),\n",
    "                                                            class_mode=\"categorical\",batch_size=24)"
   ]
  },
  {
   "cell_type": "markdown",
   "id": "862d0888",
   "metadata": {},
   "source": [
    "3,4. CREATE MODEL: Add Layers (Convolution,MaxPooling,Flatten,Dense-(Hidden Layers),Output)"
   ]
  },
  {
   "cell_type": "code",
   "execution_count": 7,
   "id": "03b1cbc4",
   "metadata": {},
   "outputs": [],
   "source": [
    "from tensorflow.keras.models import Sequential"
   ]
  },
  {
   "cell_type": "code",
   "execution_count": 8,
   "id": "fce5c0e7",
   "metadata": {},
   "outputs": [],
   "source": [
    "from tensorflow.keras.layers import Convolution2D,MaxPooling2D,Flatten,Dense"
   ]
  },
  {
   "cell_type": "code",
   "execution_count": 9,
   "id": "094290eb",
   "metadata": {},
   "outputs": [],
   "source": [
    "model=Sequential()"
   ]
  },
  {
   "cell_type": "code",
   "execution_count": 10,
   "id": "2707e758",
   "metadata": {},
   "outputs": [],
   "source": [
    "model.add(Convolution2D(32,(3,3),activation=\"relu\",input_shape=(64,64,3)))"
   ]
  },
  {
   "cell_type": "code",
   "execution_count": 11,
   "id": "610edea8",
   "metadata": {},
   "outputs": [],
   "source": [
    "model.add(MaxPooling2D(pool_size=(2,2)))"
   ]
  },
  {
   "cell_type": "code",
   "execution_count": 12,
   "id": "e768ff4a",
   "metadata": {},
   "outputs": [],
   "source": [
    "model.add(Flatten())"
   ]
  },
  {
   "cell_type": "code",
   "execution_count": 13,
   "id": "5fd086bc",
   "metadata": {},
   "outputs": [],
   "source": [
    "model.add(Dense(300,activation='relu'))"
   ]
  },
  {
   "cell_type": "code",
   "execution_count": 14,
   "id": "c6ec74e3",
   "metadata": {},
   "outputs": [],
   "source": [
    "model.add(Dense(300,activation='relu'))"
   ]
  },
  {
   "cell_type": "code",
   "execution_count": 15,
   "id": "72a4a041",
   "metadata": {},
   "outputs": [],
   "source": [
    "model.add(Dense(5,activation=\"softmax\"))"
   ]
  },
  {
   "cell_type": "markdown",
   "id": "e93ae6ef",
   "metadata": {},
   "source": [
    "5.COMPILE THE MODEL"
   ]
  },
  {
   "cell_type": "code",
   "execution_count": 16,
   "id": "1a19ccd8",
   "metadata": {},
   "outputs": [],
   "source": [
    "model.compile(loss=\"categorical_crossentropy\",metrics=[\"accuracy\"],optimizer='adam')"
   ]
  },
  {
   "cell_type": "code",
   "execution_count": 17,
   "id": "fd082193",
   "metadata": {},
   "outputs": [
    {
     "data": {
      "text/plain": [
       "180"
      ]
     },
     "execution_count": 17,
     "metadata": {},
     "output_type": "execute_result"
    }
   ],
   "source": [
    "len(x_train)"
   ]
  },
  {
   "cell_type": "code",
   "execution_count": 18,
   "id": "b9bd851a",
   "metadata": {},
   "outputs": [
    {
     "data": {
      "text/plain": [
       "180"
      ]
     },
     "execution_count": 18,
     "metadata": {},
     "output_type": "execute_result"
    }
   ],
   "source": [
    "len(x_test)"
   ]
  },
  {
   "cell_type": "markdown",
   "id": "c41e808d",
   "metadata": {},
   "source": [
    "6.FIT THE MODEL"
   ]
  },
  {
   "cell_type": "code",
   "execution_count": 19,
   "id": "8322532e",
   "metadata": {},
   "outputs": [
    {
     "name": "stdout",
     "output_type": "stream",
     "text": [
      "Epoch 1/5\n",
      "180/180 [==============================] - 379s 2s/step - loss: 1.2657 - accuracy: 0.4681 - val_loss: 1.0761 - val_accuracy: 0.5798\n",
      "Epoch 2/5\n",
      "180/180 [==============================] - 138s 767ms/step - loss: 1.0503 - accuracy: 0.5784 - val_loss: 0.9687 - val_accuracy: 0.6115\n",
      "Epoch 3/5\n",
      "180/180 [==============================] - 128s 711ms/step - loss: 0.9889 - accuracy: 0.6092 - val_loss: 0.8925 - val_accuracy: 0.6461\n",
      "Epoch 4/5\n",
      "180/180 [==============================] - 123s 683ms/step - loss: 0.9120 - accuracy: 0.6426 - val_loss: 0.8636 - val_accuracy: 0.6720\n",
      "Epoch 5/5\n",
      "180/180 [==============================] - 123s 684ms/step - loss: 0.8624 - accuracy: 0.6613 - val_loss: 0.8027 - val_accuracy: 0.6933\n"
     ]
    },
    {
     "data": {
      "text/plain": [
       "<keras.callbacks.History at 0x2187cc81a30>"
      ]
     },
     "execution_count": 19,
     "metadata": {},
     "output_type": "execute_result"
    }
   ],
   "source": [
    "model.fit(x_train,epochs=5,validation_data=x_test,steps_per_epoch=len(x_train),validation_steps=len(x_test))"
   ]
  },
  {
   "cell_type": "markdown",
   "id": "eea24b33",
   "metadata": {},
   "source": [
    "7.SAVE THE MODEL"
   ]
  },
  {
   "cell_type": "code",
   "execution_count": 20,
   "id": "370fca9b",
   "metadata": {},
   "outputs": [],
   "source": [
    "model.save(\"flower1.h5\")"
   ]
  },
  {
   "cell_type": "markdown",
   "id": "0367e446",
   "metadata": {},
   "source": [
    "8.TEST THE MODEL"
   ]
  },
  {
   "cell_type": "code",
   "execution_count": 21,
   "id": "4da6b938",
   "metadata": {},
   "outputs": [],
   "source": [
    "from tensorflow.keras.models import load_model\n",
    "from tensorflow.keras.preprocessing import image \n",
    "import numpy as np"
   ]
  },
  {
   "cell_type": "code",
   "execution_count": 22,
   "id": "6482f92a",
   "metadata": {},
   "outputs": [],
   "source": [
    "model=load_model(\"flower1.h5\")"
   ]
  },
  {
   "cell_type": "code",
   "execution_count": 23,
   "id": "7f8b2fd6",
   "metadata": {},
   "outputs": [],
   "source": [
    "img=image.load_img(\"rose.jpg\",target_size=(64,64))"
   ]
  },
  {
   "cell_type": "code",
   "execution_count": 24,
   "id": "8e773823",
   "metadata": {},
   "outputs": [
    {
     "data": {
      "image/png": "[encoded data removed]",
      "text/plain": [
       "<PIL.Image.Image image mode=RGB size=64x64 at 0x2187CC6AE80>"
      ]
     },
     "execution_count": 24,
     "metadata": {},
     "output_type": "execute_result"
    }
   ],
   "source": [
    "img"
   ]
  },
  {
   "cell_type": "code",
   "execution_count": 25,
   "id": "4e2dcd14",
   "metadata": {},
   "outputs": [
    {
     "data": {
      "text/plain": [
       "PIL.Image.Image"
      ]
     },
     "execution_count": 25,
     "metadata": {},
     "output_type": "execute_result"
    }
   ],
   "source": [
    "type(img)"
   ]
  },
  {
   "cell_type": "code",
   "execution_count": 26,
   "id": "235445ef",
   "metadata": {},
   "outputs": [],
   "source": [
    "x = image.img_to_array(img)"
   ]
  },
  {
   "cell_type": "code",
   "execution_count": 28,
   "id": "47cddcaf",
   "metadata": {},
   "outputs": [
    {
     "data": {
      "text/plain": [
       "array([[[ 56., 102.,  89.],\n",
       "        [ 46.,  82.,  68.],\n",
       "        [ 39.,  69.,  57.],\n",
       "        ...,\n",
       "        [ 13.,  47.,  31.],\n",
       "        [ 18.,  46.,  32.],\n",
       "        [ 17.,  39.,  27.]],\n",
       "\n",
       "       [[ 65., 125.,  99.],\n",
       "        [ 31.,  53.,  40.],\n",
       "        [ 53.,  65.,  61.],\n",
       "        ...,\n",
       "        [ 28.,  33.,  27.],\n",
       "        [ 37.,  30.,  22.],\n",
       "        [ 35.,  32.,  27.]],\n",
       "\n",
       "       [[ 22.,  27.,  23.],\n",
       "        [ 18.,  24.,  20.],\n",
       "        [ 50.,  74.,  61.],\n",
       "        ...,\n",
       "        [ 31.,  30.,  25.],\n",
       "        [ 36.,  31.,  27.],\n",
       "        [ 32.,  29.,  24.]],\n",
       "\n",
       "       ...,\n",
       "\n",
       "       [[ 14.,  36.,  15.],\n",
       "        [ 38.,  65.,  46.],\n",
       "        [ 26.,  34.,  19.],\n",
       "        ...,\n",
       "        [ 21.,  33.,  21.],\n",
       "        [ 19.,  56.,  25.],\n",
       "        [ 29.,  62.,  35.]],\n",
       "\n",
       "       [[ 36.,  65.,  43.],\n",
       "        [ 18.,  27.,  10.],\n",
       "        [ 20.,  33.,  15.],\n",
       "        ...,\n",
       "        [ 16.,  43.,  24.],\n",
       "        [ 19.,  53.,  28.],\n",
       "        [ 15.,  38.,  22.]],\n",
       "\n",
       "       [[  0.,  28.,  12.],\n",
       "        [  1.,  27.,  16.],\n",
       "        [  0.,  22.,   9.],\n",
       "        ...,\n",
       "        [  0.,  21.,   7.],\n",
       "        [  2.,  19.,   9.],\n",
       "        [  0.,  14.,   6.]]], dtype=float32)"
      ]
     },
     "execution_count": 28,
     "metadata": {},
     "output_type": "execute_result"
    }
   ],
   "source": [
    "x"
   ]
  },
  {
   "cell_type": "code",
   "execution_count": 27,
   "id": "63ea63d4",
   "metadata": {},
   "outputs": [
    {
     "data": {
      "text/plain": [
       "(64, 64, 3)"
      ]
     },
     "execution_count": 27,
     "metadata": {},
     "output_type": "execute_result"
    }
   ],
   "source": [
    "x.shape"
   ]
  },
  {
   "cell_type": "code",
   "execution_count": 29,
   "id": "f444a6e2",
   "metadata": {},
   "outputs": [],
   "source": [
    "x = np.expand_dims(x,axis=0)"
   ]
  },
  {
   "cell_type": "code",
   "execution_count": 30,
   "id": "c18ee63f",
   "metadata": {},
   "outputs": [
    {
     "data": {
      "text/plain": [
       "(1, 64, 64, 3)"
      ]
     },
     "execution_count": 30,
     "metadata": {},
     "output_type": "execute_result"
    }
   ],
   "source": [
    "x.shape"
   ]
  },
  {
   "cell_type": "code",
   "execution_count": 31,
   "id": "25c1481f",
   "metadata": {},
   "outputs": [
    {
     "name": "stdout",
     "output_type": "stream",
     "text": [
      "1/1 [==============================] - 1s 604ms/step\n"
     ]
    }
   ],
   "source": [
    "pred_prob = model.predict(x)"
   ]
  },
  {
   "cell_type": "code",
   "execution_count": 32,
   "id": "4eb0c707",
   "metadata": {},
   "outputs": [
    {
     "data": {
      "text/plain": [
       "array([[0., 0., 1., 0., 0.]], dtype=float32)"
      ]
     },
     "execution_count": 32,
     "metadata": {},
     "output_type": "execute_result"
    }
   ],
   "source": [
    "pred_prob"
   ]
  },
  {
   "cell_type": "code",
   "execution_count": 33,
   "id": "5a3a9a23",
   "metadata": {},
   "outputs": [],
   "source": [
    "class_name=[\"daisy\",\"dandelio\",\"rose\",\"sunflower\",\"tulip\"]\n",
    "pred_id = pred_prob.argmax(axis=1)[0]"
   ]
  },
  {
   "cell_type": "code",
   "execution_count": 34,
   "id": "09205a67",
   "metadata": {},
   "outputs": [
    {
     "data": {
      "text/plain": [
       "2"
      ]
     },
     "execution_count": 34,
     "metadata": {},
     "output_type": "execute_result"
    }
   ],
   "source": [
    "pred_id"
   ]
  },
  {
   "cell_type": "code",
   "execution_count": 35,
   "id": "f7842a68",
   "metadata": {},
   "outputs": [
    {
     "name": "stdout",
     "output_type": "stream",
     "text": [
      "predicted animal is  rose\n"
     ]
    }
   ],
   "source": [
    "print(\"predicted animal is \",str(class_name[pred_id]))"
   ]
  }
 ],
 "metadata": {
  "kernelspec": {
   "display_name": "Python 3 (ipykernel)",
   "language": "python",
   "name": "python3"
  },
  "language_info": {
   "codemirror_mode": {
    "name": "ipython",
    "version": 3
   },
   "file_extension": ".py",
   "mimetype": "text/x-python",
   "name": "python",
   "nbconvert_exporter": "python",
   "pygments_lexer": "ipython3",
   "version": "3.9.12"
  }
 },
 "nbformat": 4,
 "nbformat_minor": 5
}
